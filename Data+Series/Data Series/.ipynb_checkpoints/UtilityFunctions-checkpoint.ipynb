{
 "cells": [
  {
   "cell_type": "code",
   "execution_count": 5,
   "metadata": {},
   "outputs": [],
   "source": [
    "import random\n",
    "import numpy as np\n",
    "import pandas as pd\n",
    "\n",
    "np.random.seed(130287398)\n",
    "\n",
    "import matplotlib.pyplot as plt\n",
    "import seaborn as sns\n",
    "\n",
    "# select the style from fivethityeight website\n",
    "plt.style.use('fivethirtyeight') \n",
    "\n",
    "# predefined figsize\n",
    "figsize=(12,9)\n",
    "\n",
    "from statsmodels.tsa.arima_process import ArmaProcess\n",
    "from statsmodels.graphics.tsaplots import plot_acf, plot_pacf"
   ]
  },
  {
   "cell_type": "code",
   "execution_count": null,
   "metadata": {},
   "outputs": [],
   "source": [
    "amazon_revenues = pd.read_csv('others/amazon-quaterly-revenue.csv')\n",
    "def quarter(x):\n",
    "    return'20'+x[-2:]+'-'+x[1]\n",
    "amazon_revenues['Q'] = amazon_revenues['Quarter'].apply(quarter)\n",
    "amazon_revenues.drop('Quarter',axis=1,inplace=True)\n",
    "amazon_revenues.to_csv('others/amazon-revenues.csv',index=False)"
   ]
  },
  {
   "cell_type": "code",
   "execution_count": null,
   "metadata": {},
   "outputs": [],
   "source": [
    "def GenerateAR1(mu,phi,mu_e,s_e,n,x0):\n",
    "    x = np.zeros(n)\n",
    "    e = np.random.normal(loc=mu_e, scale=s_e, size=n)\n",
    "    x[0] = x0\n",
    "    for t in range(1,n):\n",
    "        x[t] = mu + phi*x[t-1] + e[t]\n",
    "    return x"
   ]
  },
  {
   "cell_type": "code",
   "execution_count": null,
   "metadata": {},
   "outputs": [],
   "source": [
    "ar1_1 = GenerateAR1(mu=10,phi=0.9,mu_e=0.0,s_e=1.0,n=100,x0=0)"
   ]
  },
  {
   "cell_type": "code",
   "execution_count": null,
   "metadata": {},
   "outputs": [],
   "source": [
    "plt.plot(ar1_1)"
   ]
  },
  {
   "cell_type": "code",
   "execution_count": null,
   "metadata": {},
   "outputs": [],
   "source": [
    "ar1_2 = GenerateAR1(mu=5.0,phi=-0.9,mu_e=0.0,s_e=1.0,n=100,x0=5)"
   ]
  },
  {
   "cell_type": "code",
   "execution_count": null,
   "metadata": {},
   "outputs": [],
   "source": [
    "plt.plot(ar1_2)"
   ]
  },
  {
   "cell_type": "code",
   "execution_count": null,
   "metadata": {},
   "outputs": [],
   "source": [
    "ar1_3 = GenerateAR1(mu=5.0,phi=0.5,mu_e=0.0,s_e=1.0,n=100,x0=5)\n",
    "plt.plot(ar1_3)"
   ]
  },
  {
   "cell_type": "code",
   "execution_count": null,
   "metadata": {},
   "outputs": [],
   "source": [
    "ar1_4 = GenerateAR1(mu=5.0,phi=-0.5,mu_e=0.0,s_e=1.0,n=100,x0=5)\n",
    "plt.plot(ar1_4)"
   ]
  },
  {
   "cell_type": "code",
   "execution_count": null,
   "metadata": {},
   "outputs": [],
   "source": [
    "import statsmodels.api as sm\n",
    "import numpy as np\n",
    "np.random.seed(12345)\n",
    "arparams = np.array([.75, -.25])"
   ]
  },
  {
   "cell_type": "code",
   "execution_count": null,
   "metadata": {},
   "outputs": [],
   "source": [
    "from statsmodels.tsa.arima_process import ArmaProcess\n",
    "from statsmodels.graphics.tsaplots import plot_acf, plot_pacf\n",
    "# AR of order 1 and negative phi\n",
    "ar = np.array([1, -0.9])\n",
    "ma = np.array([1])\n",
    "AR_object = ArmaProcess(ar, ma)\n",
    "simulated_data = AR_object.generate_sample(nsample=1000)\n",
    "plt.plot(simulated_data)"
   ]
  },
  {
   "cell_type": "code",
   "execution_count": null,
   "metadata": {},
   "outputs": [],
   "source": [
    "g = plot_acf(simulated_data)"
   ]
  },
  {
   "cell_type": "code",
   "execution_count": null,
   "metadata": {},
   "outputs": [],
   "source": [
    "from statsmodels.tsa.arima_process import ArmaProcess\n",
    "from statsmodels.graphics.tsaplots import plot_acf, plot_pacf\n",
    "# AR of order 1 and negative phi\n",
    "ar = np.array([1, 0.9])\n",
    "ma = np.array([1])\n",
    "AR_object = ArmaProcess(ar, ma)\n",
    "simulated_data = AR_object.generate_sample(nsample=1000)\n",
    "plt.plot(simulated_data)"
   ]
  },
  {
   "cell_type": "code",
   "execution_count": null,
   "metadata": {},
   "outputs": [],
   "source": [
    "g = plot_acf(simulated_data)"
   ]
  },
  {
   "cell_type": "markdown",
   "metadata": {},
   "source": [
    "# Simulate AR(1) models"
   ]
  },
  {
   "cell_type": "code",
   "execution_count": null,
   "metadata": {},
   "outputs": [],
   "source": [
    "# import the module for simulating data\n",
    "from statsmodels.tsa.arima_process import ArmaProcess\n",
    "\n",
    "np.random.seed(872378)\n",
    "plt.figure(figsize=(16,12))\n",
    "nsamples = 200\n",
    "\n",
    "# Plot 1: AR parameter = +0.9\n",
    "plt.subplot(2,2,1)\n",
    "ar1 = np.array([1, -0.9])\n",
    "ma1 = np.array([1])\n",
    "AR_object1 = ArmaProcess(ar1, ma1)\n",
    "simulated_data_1 = AR_object1.generate_sample(nsample=nsamples)\n",
    "plt.ylim([-7,7])\n",
    "plt.plot(simulated_data_1,label=\"$\\phi$=0.9\")\n",
    "plt.legend(loc='upper left')\n",
    "\n",
    "# Plot 2: AR parameter = -0.9\n",
    "plt.subplot(2,2,3)\n",
    "ar2 = np.array([1, 0.9])\n",
    "ma2 = np.array([1])\n",
    "AR_object2 = ArmaProcess(ar2, ma2)\n",
    "simulated_data_2 = AR_object2.generate_sample(nsample=nsamples)\n",
    "plt.ylim([-7,7])\n",
    "plt.plot(simulated_data_2,label=\"$\\phi$=-0.9\")\n",
    "plt.legend(loc='upper left')\n",
    "\n",
    "\n",
    "# Plot 3: AR parameter = 0.3\n",
    "plt.subplot(2,2,2)\n",
    "ar3 = np.array([1, -0.3])\n",
    "ma3 = np.array([1])\n",
    "AR_object3 = ArmaProcess(ar3, ma3)\n",
    "simulated_data_3 = AR_object3.generate_sample(nsample=nsamples)\n",
    "plt.ylim([-7,7])\n",
    "plt.plot(simulated_data_3,label=\"$\\phi$=0.3\")\n",
    "plt.legend(loc='upper left')\n",
    "\n",
    "\n",
    "# Plot 3: AR parameter = 0.3\n",
    "plt.subplot(2,2,4)\n",
    "ar4 = np.array([1, 0.3])\n",
    "ma4 = np.array([1])\n",
    "AR_object4 = ArmaProcess(ar4, ma4)\n",
    "simulated_data_4 = AR_object4.generate_sample(nsample=nsamples)\n",
    "plt.ylim([-7,7])\n",
    "plt.plot(simulated_data_4,label=\"$\\phi$=-0.3\")\n",
    "plt.legend(loc='upper left',fontsize=16)\n",
    "\n",
    "plt.show()\n",
    "\n",
    "ar1_example = pd.DataFrame({'Time':range(nsamples), 'Phi09':simulated_data_1, 'Phi-09':simulated_data_2, 'Phi03':simulated_data_3, 'Phi-03':simulated_data_4})\n",
    "ar1_example.to_csv('others/ar1_examples.csv',index=False)"
   ]
  },
  {
   "cell_type": "code",
   "execution_count": null,
   "metadata": {},
   "outputs": [],
   "source": [
    "g = plot_acf(simulated_data_1,alpha=1,lags=15)"
   ]
  },
  {
   "cell_type": "code",
   "execution_count": null,
   "metadata": {},
   "outputs": [],
   "source": [
    "ar1 = np.array([1, -0.9])\n",
    "ma1 = np.array([1])\n",
    "AR_object1 = ArmaProcess(ar1, ma1)\n",
    "simulated_data_1 = AR_object1.generate_sample(nsample=1000)\n",
    "plt.plot(simulated_data_1)"
   ]
  },
  {
   "cell_type": "code",
   "execution_count": null,
   "metadata": {},
   "outputs": [],
   "source": [
    "g = plot_acf(simulated_data_1, alpha=1, lags=40)"
   ]
  },
  {
   "cell_type": "code",
   "execution_count": null,
   "metadata": {},
   "outputs": [],
   "source": [
    "nsamples = 1000\n",
    "white_noise = np.random.normal(loc=0, scale=1, size=nsamples)\n",
    "\n",
    "ar1 = np.array([1, -0.9])\n",
    "ma1 = np.array([1])\n",
    "AR_object1 = ArmaProcess(ar1, ma1)\n",
    "simulated_ar1 = AR_object1.generate_sample(nsample=nsamples)\n",
    "\n",
    "ar2 = np.array([2, np.array([-0.9, 0.75])])\n",
    "ma2 = np.array([1])\n",
    "AR_object2 = ArmaProcess(ar2, ma2)\n",
    "simulated_ar2 = AR_object2.generate_sample(nsample=nsamples)\n",
    "\n",
    "ar3 = np.array([3, -0.9])\n",
    "ma3 = np.array([1])\n",
    "AR_object2 = ArmaProcess(ar3, ma3)\n",
    "simulated_ar3 = AR_object3.generate_sample(nsample=nsamples)\n",
    "\n",
    "ar_examples = pd.DataFrame({\n",
    "    'Index':range(nsamples),\n",
    "    'Noise':white_noise,\n",
    "    'AR1':simulated_ar1,\n",
    "    'AR2':simulated_ar2,\n",
    "    'AR3':simulated_ar3\n",
    "})\n",
    "ar_examples.to_csv('others/ar_examples.csv',index=False)"
   ]
  },
  {
   "cell_type": "code",
   "execution_count": null,
   "metadata": {},
   "outputs": [],
   "source": [
    "ar = np.array([1, -0.9, -0.8])\n",
    "ma = np.array([1])\n",
    "ar_process = ArmaProcess(ar, ma)\n",
    "simulated_ar = ar_process.generate_sample(nsample=nsamples)"
   ]
  },
  {
   "cell_type": "code",
   "execution_count": null,
   "metadata": {},
   "outputs": [],
   "source": [
    "g=plot_pacf(simulated_ar)"
   ]
  },
  {
   "cell_type": "code",
   "execution_count": null,
   "metadata": {},
   "outputs": [],
   "source": [
    "nobs = 1000\n",
    "white_noise = np.random.normal(loc=0, scale=1, size=nobs)"
   ]
  },
  {
   "cell_type": "code",
   "execution_count": null,
   "metadata": {},
   "outputs": [],
   "source": [
    "from statsmodels.tsa.arima_process import arma_generate_sample\n",
    "arparams = np.array([.9, .8, .7])\n",
    "maparams = np.array([1])\n",
    "arparams = np.r_[2, -arparams]\n",
    "maparam = np.r_[1, maparams]\n",
    "ar1 = arma_generate_sample(arparams, maparams, nobs)"
   ]
  },
  {
   "cell_type": "code",
   "execution_count": null,
   "metadata": {},
   "outputs": [],
   "source": [
    "g = plot_pacf(ar1)"
   ]
  },
  {
   "cell_type": "code",
   "execution_count": null,
   "metadata": {},
   "outputs": [],
   "source": [
    "arparams = np.array([.9,.8])\n",
    "maparams = np.array([1])\n",
    "arparams = np.r_[2, -arparams]\n",
    "maparam = np.r_[1, maparams]\n",
    "ar2 = arma_generate_sample(arparams, maparams, nobs)\n",
    "g = plot_pacf(ar2)"
   ]
  },
  {
   "cell_type": "code",
   "execution_count": null,
   "metadata": {},
   "outputs": [],
   "source": [
    "arparams = np.array([.7,.95,.99])\n",
    "maparams = np.array([1])\n",
    "arparams = np.r_[3, -arparams]\n",
    "maparam = np.r_[1, maparams]\n",
    "ar3 = arma_generate_sample(arparams, maparams, nobs)\n",
    "g = plot_pacf(ar3)"
   ]
  },
  {
   "cell_type": "code",
   "execution_count": null,
   "metadata": {},
   "outputs": [],
   "source": [
    "ar_examples = pd.DataFrame({\n",
    "    'Index':range(nobs),\n",
    "    'Noise':white_noise,\n",
    "    'AR1':ar1,\n",
    "    'AR2':ar2,\n",
    "    'AR3':ar3\n",
    "})\n",
    "ar_examples.to_csv('others/ar_examples.csv',index=False)"
   ]
  },
  {
   "cell_type": "markdown",
   "metadata": {},
   "source": [
    "# Generate ARMA models"
   ]
  },
  {
   "cell_type": "code",
   "execution_count": 9,
   "metadata": {},
   "outputs": [],
   "source": [
    "from statsmodels.tsa.arima_process import arma_generate_sample\n",
    "ar_coefs = [1,-0.5]\n",
    "ma_coefs = [1, 0.2]\n",
    "y = arma_generate_sample(ar_coefs,ma_coefs,nsample=100,scale=0.5)"
   ]
  },
  {
   "cell_type": "code",
   "execution_count": 8,
   "metadata": {},
   "outputs": [
    {
     "data": {
      "text/plain": [
       "[<matplotlib.lines.Line2D at 0x1a1a5ed7d0>]"
      ]
     },
     "execution_count": 8,
     "metadata": {},
     "output_type": "execute_result"
    },
    {
     "data": {
      "image/png": "[encoded data removed]",
      "text/plain": [
       "<Figure size 432x288 with 1 Axes>"
      ]
     },
     "metadata": {},
     "output_type": "display_data"
    }
   ],
   "source": [
    "plt.plot(y)"
   ]
  },
  {
   "cell_type": "code",
   "execution_count": 11,
   "metadata": {},
   "outputs": [],
   "source": [
    "from statsmodels.tsa.arima_model import ARMA\n",
    "model = ARMA(y, order=(1,1))\n",
    "results = model.fit()"
   ]
  },
  {
   "cell_type": "code",
   "execution_count": 13,
   "metadata": {},
   "outputs": [
    {
     "name": "stdout",
     "output_type": "stream",
     "text": [
      "<statsmodels.tsa.arima_model.ARMAResultsWrapper object at 0x1a1985e2d0>\n"
     ]
    }
   ],
   "source": []
  },
  {
   "cell_type": "code",
   "execution_count": null,
   "metadata": {},
   "outputs": [],
   "source": []
  }
 ],
 "metadata": {
  "kernelspec": {
   "display_name": "Python 3",
   "language": "python",
   "name": "python3"
  },
  "language_info": {
   "codemirror_mode": {
    "name": "ipython",
    "version": 3
   },
   "file_extension": ".py",
   "mimetype": "text/x-python",
   "name": "python",
   "nbconvert_exporter": "python",
   "pygments_lexer": "ipython3",
   "version": "3.7.6"
  }
 },
 "nbformat": 4,
 "nbformat_minor": 4
}
