{
 "cells": [
  {
   "cell_type": "markdown",
   "metadata": {},
   "source": [
    "# Loan Safety Prediction\n",
    "In this example, we are going to build a model to predict whether a loan request is safe to be assigned using the data downloaded from the <a href=\"https://www.lendingclub.com/info/download-data.action\">Lending Club Corporation</a>. The company provided files containing complete loan data for all loans issued over a certain time window, including the current loan status (Current, Late, Fully Paid, etc.) and latest payment information. We are going to use a small subset of the available data which were previously preprocessed. At the moment, it seems that the data are not available anymore though. \n",
    "\n",
    "\n",
    "## Libraries\n",
    "As the very first step, we load all the relevant libraries."
   ]
  },
  {
   "cell_type": "code",
   "execution_count": 1,
   "metadata": {},
   "outputs": [],
   "source": [
    "import numpy as np\n",
    "import pandas as pd\n",
    "\n",
    "# Statistical libraries\n",
    "from scipy import stats\n",
    "\n",
    "# Plotting libraries\n",
    "import matplotlib.pyplot as plt\n",
    "import seaborn as sns\n",
    "%matplotlib inline\n",
    "\n",
    "# Preprocessing\n",
    "from sklearn.preprocessing import StandardScaler\n",
    "\n",
    "# Evaluation Procedures\n",
    "from sklearn.model_selection import train_test_split\n",
    "from sklearn.model_selection import cross_val_score\n",
    "from sklearn.model_selection import StratifiedKFold\n",
    "\n",
    "# Classification methods\n",
    "from sklearn.linear_model import LogisticRegression\n",
    "from sklearn.naive_bayes import GaussianNB\n",
    "from sklearn.neighbors import KNeighborsClassifier\n",
    "from sklearn.tree import DecisionTreeClassifier\n",
    "\n",
    "from sklearn.ensemble import RandomForestClassifier\n",
    "from sklearn.ensemble import ExtraTreesClassifier\n",
    "from sklearn.ensemble import AdaBoostClassifier\n",
    "from sklearn.ensemble import BaggingClassifier\n",
    "\n",
    "from sklearn.ensemble import VotingClassifier\n",
    "\n",
    "# Evaluation Metrics\n",
    "from sklearn.metrics import precision_score\n",
    "from sklearn.metrics import recall_score\n",
    "from sklearn.metrics import confusion_matrix\n",
    "from sklearn.metrics import precision_recall_curve\n",
    "from sklearn.metrics import average_precision_score\n",
    "from sklearn.metrics import precision_score\n",
    "from sklearn.metrics import recall_score\n",
    "from sklearn.metrics import accuracy_score\n",
    "from sklearn.metrics import roc_curve\n",
    "from sklearn.metrics import roc_auc_score\n",
    "from sklearn.metrics import f1_score"
   ]
  },
  {
   "cell_type": "markdown",
   "metadata": {},
   "source": [
    "Next we define some utility functions."
   ]
  },
  {
   "cell_type": "code",
   "execution_count": 2,
   "metadata": {},
   "outputs": [],
   "source": [
    "def PrintConfusionMatrix(model, true_y, predicted_y, positive=1, negative=-1):\n",
    "    cm = confusion_matrix(true_y,predicted_y)\n",
    "    print(\"\\t\"+str(model.classes_[0])+\"\\t\"+str(model.classes_[1]))\n",
    "    print(str(model.classes_[0]) + \"\\t\",cm[0][0],\"\\t\",cm[0][1])\n",
    "    print(str(model.classes_[1]) + \"\\t\",cm[1][0],\"\\t\",cm[1][1])    \n",
    "\n",
    "def PrintSignificance(stat, c):\n",
    "    if (stat[1]<(1-c)):\n",
    "        print(\"The difference is statistically significant (cf %3.2f p-value=%.4f)\"%(c,stat[1]))\n",
    "    else:\n",
    "        print(\"The difference is not statistically significant (cf %3.2f p-value=%.4f)\"%(c,stat[1]))        "
   ]
  },
  {
   "cell_type": "markdown",
   "metadata": {},
   "source": [
    "## Data, Training, and Test Sets\n",
    "We load the data, define the input data X and the target column y. Next, we set the random seed, define a training/test partition, and the crossvalidation procedure we will use to compare the models.\n",
    "\n",
    "Note that in this notebook we don't perform any data exploration or preparation since we already performed it before."
   ]
  },
  {
   "cell_type": "code",
   "execution_count": 3,
   "metadata": {},
   "outputs": [],
   "source": [
    "loans = pd.read_csv('LoansNumerical.csv')\n",
    "target_variable = 'safe_loans'\n",
    "input_variables = loans.columns[loans.columns!=target_variable]\n",
    "\n",
    "X = loans[input_variables]\n",
    "y = loans[target_variable]"
   ]
  },
  {
   "cell_type": "code",
   "execution_count": 4,
   "metadata": {},
   "outputs": [],
   "source": [
    "np.random.seed(1234)\n",
    "\n",
    "X_train, X_test, y_train, y_test = \\\n",
    "    train_test_split(X, y,\\\n",
    "    test_size= 1/3.0, random_state =1234, shuffle=True)\n",
    "\n",
    "crossvalidation = StratifiedKFold(n_splits=10, shuffle=True)"
   ]
  },
  {
   "cell_type": "markdown",
   "metadata": {},
   "source": [
    "## Baseline Performance (Majority Voting)\n",
    "At first, let's check what is the class distribution. As we can see the dataset is quite imbalanced with 81.1% of loans that have been classified as safe with only 18/9% of the loans classified as risky. Thus, a very simple model classifying all the loans as safe would reach an 81.1% accuracy (an impressive result in many applications) however, it would be useless for the real goal of this analysis, that is, to create a model to identify risky loans."
   ]
  },
  {
   "cell_type": "code",
   "execution_count": 5,
   "metadata": {},
   "outputs": [
    {
     "name": "stdout",
     "output_type": "stream",
     "text": [
      "Class  1  81.1%\n",
      "Class -1  18.9%\n",
      "\n"
     ]
    }
   ],
   "source": [
    "print(\"Class %2d  %.1f%%\\nClass %2d  %.1f%%\\n\"%((y.value_counts()/y.shape[0]).index[0],100*(y.value_counts()/y.shape[0]).values[0],(y.value_counts()/y.shape[0]).index[1],100*(y.value_counts()/y.shape[0]).values[1]))"
   ]
  },
  {
   "cell_type": "markdown",
   "metadata": {},
   "source": [
    "# Model Evaluation\n",
    "We now evaluate different models using some setup we investigated early. We will consider some basic methods (linear regression, naive bayes, and k-NN) as well as ensemble methods."
   ]
  },
  {
   "cell_type": "code",
   "execution_count": 6,
   "metadata": {},
   "outputs": [],
   "source": [
    "n_estimators = 100\n",
    "\n",
    "methods = {\n",
    "#     'Lasso':LogisticRegression(penalty=\"l1\",C=100, random_state=1234, max_iter=300, solver=\"liblinear\"),\n",
    "    'NaiveBayes':GaussianNB(),\n",
    "    'k-NN(5)':KNeighborsClassifier(n_neighbors=5, algorithm='kd_tree'),\n",
    "    'Decision Tree':DecisionTreeClassifier(max_depth=None),\n",
    "#     'Bagging':BaggingClassifier(DecisionTreeClassifier(max_depth=3),n_estimators=n_estimators)\n",
    "#     'Random Forest':RandomForestClassifier(n_estimators=n_estimators,max_depth=3,oob_score=True),\n",
    "#     'Extremely Randomized Trees':ExtraTreesClassifier(n_estimators=n_estimators,max_depth=3),\n",
    "#     'Ada Boost':AdaBoostClassifier(DecisionTreeClassifier(max_depth=3),n_estimators=n_estimators)\n",
    "}"
   ]
  },
  {
   "cell_type": "code",
   "execution_count": 29,
   "metadata": {},
   "outputs": [
    {
     "name": "stdout",
     "output_type": "stream",
     "text": [
      "NaiveBayes\tAccuracy  0.773 0.004\n",
      "          \tPrecision 0.840\n",
      "          \tRecall    0.891\n",
      "          \tF1        0.865\n",
      "   k-NN(5)\tAccuracy  0.784 0.002\n",
      "          \tPrecision 0.816\n",
      "          \tRecall    0.944\n",
      "          \tF1        0.875\n",
      "Decision Tree\tAccuracy  0.730 0.003\n",
      "          \tPrecision 0.841\n",
      "          \tRecall    0.824\n",
      "          \tF1        0.832\n"
     ]
    }
   ],
   "source": [
    "xval_results = {}\n",
    "roc_results = {}\n",
    "\n",
    "method = []\n",
    "accuracy_mean = []\n",
    "accuracy_std = []\n",
    "precision = []\n",
    "recall = []\n",
    "f1 = []\n",
    "auc = []\n",
    "\n",
    "for method_name in methods:\n",
    "    \n",
    "    \n",
    "    clf = methods[method_name];\n",
    "    \n",
    "    # evaluate the model using crossvalidation\n",
    "    xval_score = cross_val_score(clf,X,y,cv=crossvalidation)\n",
    "    \n",
    "    # store the raw results of crossvalidation that we might want to use for t-test/mann-whitney comparison\n",
    "    xval_results[method_name] = xval_score\n",
    "    \n",
    "    # compute the basic statistics\n",
    "    accuracy_mean.append(np.average(xval_score))\n",
    "    accuracy_std.append(np.std(xval_score))\n",
    "    \n",
    "    clf.fit(X_train,y_train)\n",
    "    \n",
    "    # compute the prediction which, for probabilistic classifiers, is using a threshold of 0.5\n",
    "    yp = clf.predict(X_test)\n",
    "    \n",
    "    # ask for the probability values\n",
    "    yprob = clf.predict_proba(X_test)\n",
    "    \n",
    "    # computes the data needed to draw the ROC curve\n",
    "    fpr_nb, tpr_nb, thresholds = roc_curve(y_true=y_test, y_score = yprob[:,1], pos_label=1)\n",
    "    \n",
    "    # computes the AUC \n",
    "    roc_auc = roc_auc_score(y_true=y_test, y_score = yprob[:,1])\n",
    "    auc.append(roc_auc)\n",
    "\n",
    "    # store the information to plot the ROC curves afterwards\n",
    "    roc_results[method_name] = (fpr_nb, tpr_nb, thresholds, roc_auc)\n",
    "    \n",
    "    precision.append(precision_score(y_test,yp))\n",
    "    recall.append(recall_score(y_test,yp))\n",
    "    f1.append(f1_score(y_test, yp))\n",
    "    \n",
    "    print(\"%10s\\tAccuracy  %.3f %.3f\"%(method_name,np.average(xval_score),np.std(xval_score)))\n",
    "    print(\"          \\tPrecision %.3f\"%precision_score(y_test, yp))\n",
    "    print(\"          \\tRecall    %.3f\"%recall_score(y_test, yp))\n",
    "    print(\"          \\tF1        %.3f\"%f1_score(y_test, yp))\n",
    "\n",
    "    method.append(method_name)"
   ]
  },
  {
   "cell_type": "code",
   "execution_count": 47,
   "metadata": {},
   "outputs": [],
   "source": [
    "result_summary = pd.DataFrame({'Model':method,'Accuracy (Mean)':accuracy_mean,'Accuracy (Std)':accuracy_std,'Precision':precision,'Recall':recall,'F1':f1,'AUC':auc})\n",
    "result_summary.to_csv('LoanSafety-Summary.csv')"
   ]
  },
  {
   "cell_type": "code",
   "execution_count": 42,
   "metadata": {},
   "outputs": [
    {
     "data": {
      "image/png": "[encoded data removed]",
      "text/plain": [
       "<Figure size 1296x432 with 1 Axes>"
      ]
     },
     "metadata": {
      "needs_background": "light"
     },
     "output_type": "display_data"
    }
   ],
   "source": [
    "f, axe = plt.subplots(1,1, figsize=(18,6))\n",
    "\n",
    "result_summary.sort_values(by=['Accuracy (Mean)'], ascending=False, inplace=True)\n",
    "\n",
    "sns.barplot(x='Accuracy (Mean)', y='Model', data = result_summary, xerr=result_summary['Accuracy (Std)'], ax = axe)\n",
    "axe.set_xlabel('Cross-Validaton Score', size=16)\n",
    "axe.set_ylabel('Model')\n",
    "axe.set_title(\"Accuracy $\\mu\\pm s$\")\n",
    "axe.set_xlim(0,1.0)\n",
    "plt.show()"
   ]
  },
  {
   "cell_type": "markdown",
   "metadata": {},
   "source": [
    "## Receiver Operating Characteristic (ROC) Curves\n",
    "Alternatively, we can compare the classifiers using the area under the curve values and the corresponding ROC curves."
   ]
  },
  {
   "cell_type": "code",
   "execution_count": 20,
   "metadata": {},
   "outputs": [
    {
     "data": {
      "image/png": "[encoded data removed]",
      "text/plain": [
       "<Figure size 576x576 with 1 Axes>"
      ]
     },
     "metadata": {
      "needs_background": "light"
     },
     "output_type": "display_data"
    }
   ],
   "source": [
    "plt.figure(1, figsize=(8, 8));\n",
    "font = {'family':'sans', 'size':24};\n",
    "plt.rc('font', **font);\n",
    "plt.xlabel('FPR');\n",
    "plt.ylabel('TPR');\n",
    "for roc_name in roc_results:\n",
    "    plt.plot(roc_results[roc_name][0], roc_results[roc_name][1],label=roc_name+' %.2f'%roc_results[roc_name][3])\n",
    "\n",
    "\n",
    "# plt.plot(fpr,thresholds,label='Thresholds')\n",
    "plt.plot([0.0,1.0],[0.0,1.0],label='Baseline')\n",
    "plt.yticks(np.arange(0.0,1.01,.2))\n",
    "plt.title('ROC Curves')\n",
    "plt.ylim([0.0,1.0])\n",
    "plt.xlim([0.0,1.0])\n",
    "plt.legend()\n",
    "plt.show();"
   ]
  },
  {
   "cell_type": "markdown",
   "metadata": {},
   "source": [
    "## Comparing Classifier Performance using Statistical Tests\n",
    "We can now compare the performance of the most interesting, best performing, models to check whether the recorded difference is statistically significant."
   ]
  },
  {
   "cell_type": "code",
   "execution_count": 45,
   "metadata": {},
   "outputs": [],
   "source": [
    "df_crossvalidation = pd.DataFrame(xval_results)"
   ]
  },
  {
   "cell_type": "code",
   "execution_count": 46,
   "metadata": {},
   "outputs": [
    {
     "name": "stdout",
     "output_type": "stream",
     "text": [
      "     NaiveBayes vs         k-NN(5) => Difference is statistically significant (cf 95.00 p-value=0.0001)\n",
      "     NaiveBayes vs   Decision Tree => Difference is statistically significant (cf 95.00 p-value=0.0000)\n",
      "        k-NN(5) vs   Decision Tree => Difference is statistically significant (cf 95.00 p-value=0.0000)\n"
     ]
    }
   ],
   "source": [
    "confidence_level = 0.95\n",
    "\n",
    "no_variables = len(df_crossvalidation.columns)\n",
    "\n",
    "p_value = np.zeros((no_variables,no_variables))\n",
    "\n",
    "for first,first_model in enumerate(df_crossvalidation.columns):\n",
    "    \n",
    "    p_value[first,first] = 1.0\n",
    "    \n",
    "    for second in range(first+1,(len(df_crossvalidation.columns))):\n",
    "\n",
    "        second_model = df_crossvalidation.columns[second]\n",
    "        \n",
    "        paired_test = stats.ttest_rel(df_crossvalidation[first_model], df_crossvalidation[second_model])\n",
    "    \n",
    "        p_value[first,second] = paired_test[1]\n",
    "        p_value[second,first] = paired_test[1]\n",
    "        \n",
    "        if (paired_test[1]<(1-confidence_level)):\n",
    "            print(\"%15s vs %15s => Difference is statistically significant (cf %3.2f p-value=%.4f)\"%(first_model,second_model,confidence_level*100,paired_test[1]))"
   ]
  },
  {
   "cell_type": "markdown",
   "metadata": {},
   "source": [
    "## Discussion\n"
   ]
  },
  {
   "cell_type": "code",
   "execution_count": 19,
   "metadata": {},
   "outputs": [],
   "source": [
    "scaler = StandardScaler()"
   ]
  },
  {
   "cell_type": "code",
   "execution_count": 20,
   "metadata": {},
   "outputs": [
    {
     "data": {
      "text/plain": [
       "StandardScaler(copy=True, with_mean=True, with_std=True)"
      ]
     },
     "execution_count": 20,
     "metadata": {},
     "output_type": "execute_result"
    }
   ],
   "source": [
    "np.random.seed(1234)\n",
    "\n",
    "X_train, X_test, y_train, y_test = \\\n",
    "    train_test_split(X, y,\\\n",
    "    test_size= 1/3.0, random_state =1234, shuffle=True)\n",
    "\n",
    "crossvalidation = StratifiedKFold(n_splits=10, shuffle=True)"
   ]
  },
  {
   "cell_type": "code",
   "execution_count": 21,
   "metadata": {},
   "outputs": [],
   "source": [
    "XS_train = sc.transform(X_train)\n",
    "XS_test = sc.transform(X_test)"
   ]
  },
  {
   "cell_type": "code",
   "execution_count": 25,
   "metadata": {},
   "outputs": [
    {
     "name": "stdout",
     "output_type": "stream",
     "text": [
      "Crossvalidation Accuracy 0.814 +/ 0.003\n",
      "Accuracy 0.811\n",
      "Precision 0.821\n",
      "Recall 0.981\n",
      "\t-1\t1\n",
      "-1\t 673 \t 7076\n",
      "1\t 625 \t 32447\n"
     ]
    }
   ],
   "source": [
    "nslr = linear_model.LogisticRegression(C=10e10, random_state=1234, max_iter=300, solver=\"liblinear\")\n",
    "acc_nslr = model_selection.cross_val_score(nslr, XS_train, y_train, cv=StratifiedKFold(n_splits=10, shuffle=True,random_state=1234))\n",
    "print(\"Crossvalidation Accuracy %.3f +/ %.3f\"%(acc_nslr.mean(),acc_nslr.std()))\n",
    "nslr.fit(XS_train, y_train)\n",
    "nys_test_predict = nslr.predict(XS_test)\n",
    "print(\"Accuracy %.3f\"%(accuracy_score(y_test, nys_test_predict)))\n",
    "print(\"Precision %.3f\"%precision_score(y_test, nys_test_predict))\n",
    "print(\"Recall %.3f\"%recall_score(y_test, nys_test_predict))\n",
    "PrintConfusionMatrix(nslr, y_test, nys_test_predict)"
   ]
  },
  {
   "cell_type": "markdown",
   "metadata": {},
   "source": [
    "## Voting Classifier"
   ]
  },
  {
   "cell_type": "code",
   "execution_count": 26,
   "metadata": {},
   "outputs": [
    {
     "name": "stdout",
     "output_type": "stream",
     "text": [
      "Accuracy 0.807\n",
      "Precision 0.822\n",
      "Recall 0.972\n",
      "\t-1\t1\n",
      "-1\t 787 \t 6962\n",
      "1\t 917 \t 32155\n",
      "CPU times: user 11 s, sys: 72.7 ms, total: 11.1 s\n",
      "Wall time: 9.93 s\n"
     ]
    }
   ],
   "source": [
    "%%time\n",
    "# estimators = [('xgb',xgb_model), ('knn',knn), ('nb',nb), ('rf',rf), ('ab',ab), ('slr',l1lr)]\n",
    "estimators = [('knn',knn), ('nb',nb), ('slr',l1lr)]\n",
    "voting_hard = VotingClassifier(estimators=estimators, voting='hard')\n",
    "voting_hard.fit(X_train, y_train)\n",
    "y_test_pred = voting_hard.predict(X_test)\n",
    "print(\"Accuracy %.3f\"%(accuracy_score(y_test, y_test_pred)))\n",
    "print(\"Precision %.3f\"%precision_score(y_test, y_test_pred))\n",
    "print(\"Recall %.3f\"%recall_score(y_test, y_test_pred))\n",
    "PrintConfusionMatrix(nb, y_test, y_test_pred)"
   ]
  },
  {
   "cell_type": "code",
   "execution_count": 27,
   "metadata": {},
   "outputs": [
    {
     "name": "stdout",
     "output_type": "stream",
     "text": [
      "Accuracy 0.807\n",
      "Precision 0.826\n",
      "Recall 0.964\n",
      "\t-1\t1\n",
      "-1\t 1038 \t 6711\n",
      "1\t 1186 \t 31886\n",
      "CPU times: user 9.44 s, sys: 69.4 ms, total: 9.51 s\n",
      "Wall time: 9.2 s\n"
     ]
    }
   ],
   "source": [
    "%%time\n",
    "# estimators = [('xgb',xgb_model), ('knn',knn), ('nb',nb), ('rf',rf), ('ab',ab), ('slr',l1lr)]\n",
    "estimators = [('knn',knn), ('nb',nb), ('slr',l1lr)]\n",
    "voting = VotingClassifier(estimators=estimators, voting='soft')\n",
    "voting.fit(X_train, y_train)\n",
    "y_test_pred = voting.predict(X_test)\n",
    "print(\"Accuracy %.3f\"%(accuracy_score(y_test, y_test_pred)))\n",
    "print(\"Precision %.3f\"%precision_score(y_test, y_test_pred))\n",
    "print(\"Recall %.3f\"%recall_score(y_test, y_test_pred))\n",
    "PrintConfusionMatrix(nb, y_test, y_test_pred)"
   ]
  },
  {
   "cell_type": "code",
   "execution_count": 28,
   "metadata": {},
   "outputs": [
    {
     "name": "stdout",
     "output_type": "stream",
     "text": [
      "Accuracy 0.807\n",
      "Precision 0.826\n",
      "Recall 0.965\n",
      "\t-1\t1\n",
      "-1\t 1021 \t 6728\n",
      "1\t 1151 \t 31921\n",
      "CPU times: user 11.6 s, sys: 91.6 ms, total: 11.7 s\n",
      "Wall time: 10.6 s\n"
     ]
    }
   ],
   "source": [
    "%%time\n",
    "# estimators = [('xgb',xgb_model), ('knn',knn), ('nb',nb), ('rf',rf), ('ab',ab), ('slr',l1lr)]\n",
    "estimators = [('knn',knn), ('nb',nb), ('slr',l1lr)]\n",
    "voting = VotingClassifier(estimators=estimators, voting='soft',flatten_transform=True,weights=[0.78,0.77,0.81])\n",
    "voting.fit(X_train, y_train)\n",
    "y_test_pred = voting.predict(X_test)\n",
    "print(\"Accuracy %.3f\"%(accuracy_score(y_test, y_test_pred)))\n",
    "print(\"Precision %.3f\"%precision_score(y_test, y_test_pred))\n",
    "print(\"Recall %.3f\"%recall_score(y_test, y_test_pred))\n",
    "PrintConfusionMatrix(nb, y_test, y_test_pred)"
   ]
  },
  {
   "cell_type": "markdown",
   "metadata": {},
   "source": [
    "## Stacking\n",
    "- http://rasbt.github.io/mlxtend/user_guide/classifier/StackingClassifier/\n",
    "- https://medium.com/@rrfd/boosting-bagging-and-stacking-ensemble-methods-with-sklearn-and-mlens-a455c0c982de"
   ]
  },
  {
   "cell_type": "code",
   "execution_count": 29,
   "metadata": {},
   "outputs": [],
   "source": [
    "learners = pd.DataFrame()"
   ]
  },
  {
   "cell_type": "code",
   "execution_count": 30,
   "metadata": {},
   "outputs": [],
   "source": [
    "knn.fit(X_train,y_train)\n",
    "learners['knn'] = knn.predict(X_train)"
   ]
  },
  {
   "cell_type": "code",
   "execution_count": 31,
   "metadata": {},
   "outputs": [],
   "source": [
    "nb.fit(X_train,y_train)\n",
    "learners['nb'] = nb.predict(X_train)"
   ]
  },
  {
   "cell_type": "code",
   "execution_count": 32,
   "metadata": {},
   "outputs": [],
   "source": [
    "l1lr.fit(X_train,y_train)\n",
    "learners['slr'] = l1lr.predict(X_train)"
   ]
  },
  {
   "cell_type": "code",
   "execution_count": 33,
   "metadata": {},
   "outputs": [
    {
     "name": "stderr",
     "output_type": "stream",
     "text": [
      "/Users/pierlucalanzi/opt/anaconda3/lib/python3.7/site-packages/sklearn/ensemble/forest.py:307: UserWarning: Warm-start fitting without increasing n_estimators does not fit new trees.\n",
      "  warn(\"Warm-start fitting without increasing n_estimators does not \"\n"
     ]
    }
   ],
   "source": [
    "rf.fit(X_train,y_train)\n",
    "learners['rf'] = rf.predict(X_train)"
   ]
  },
  {
   "cell_type": "code",
   "execution_count": 34,
   "metadata": {},
   "outputs": [],
   "source": [
    "ab.fit(X_train,y_train)\n",
    "learners['ab'] = ab.predict(X_train)"
   ]
  },
  {
   "cell_type": "code",
   "execution_count": 35,
   "metadata": {},
   "outputs": [],
   "source": [
    "xgb_model.fit(X_train,y_train)\n",
    "learners['xgb'] = xgb_model.predict(X_train)"
   ]
  },
  {
   "cell_type": "code",
   "execution_count": 36,
   "metadata": {},
   "outputs": [],
   "source": [
    "meta = linear_model.LogisticRegression(penalty=\"l1\",C=100, random_state=1234, max_iter=300, solver=\"liblinear\")"
   ]
  },
  {
   "cell_type": "code",
   "execution_count": 37,
   "metadata": {},
   "outputs": [
    {
     "data": {
      "text/plain": [
       "LogisticRegression(C=100, class_weight=None, dual=False, fit_intercept=True,\n",
       "                   intercept_scaling=1, l1_ratio=None, max_iter=300,\n",
       "                   multi_class='warn', n_jobs=None, penalty='l1',\n",
       "                   random_state=1234, solver='liblinear', tol=0.0001, verbose=0,\n",
       "                   warm_start=False)"
      ]
     },
     "execution_count": 37,
     "metadata": {},
     "output_type": "execute_result"
    }
   ],
   "source": [
    "meta.fit(learners,y_train)"
   ]
  },
  {
   "cell_type": "code",
   "execution_count": 38,
   "metadata": {},
   "outputs": [],
   "source": [
    "learners_test = pd.DataFrame()\n",
    "learners_test['knn'] = knn.predict(X_test)\n",
    "learners_test['nb'] = nb.predict(X_test)\n",
    "learners_test['slr'] = l1lr.predict(X_test)\n",
    "learners_test['rf'] = rf.predict(X_test)\n",
    "learners_test['ab'] = ab.predict(X_test)\n",
    "learners_test['xgb'] = xgb_model.predict(X_test)"
   ]
  },
  {
   "cell_type": "code",
   "execution_count": 39,
   "metadata": {},
   "outputs": [],
   "source": [
    "y_test_pred = meta.predict(learners_test)"
   ]
  },
  {
   "cell_type": "code",
   "execution_count": 40,
   "metadata": {},
   "outputs": [
    {
     "name": "stdout",
     "output_type": "stream",
     "text": [
      "Accuracy 0.819\n",
      "Precision 0.830\n",
      "Recall 0.976\n",
      "\t-1\t1\n",
      "-1\t 1150 \t 6599\n",
      "1\t 802 \t 32270\n"
     ]
    }
   ],
   "source": [
    "print(\"Accuracy %.3f\"%(accuracy_score(y_test, y_test_pred)))\n",
    "print(\"Precision %.3f\"%precision_score(y_test, y_test_pred))\n",
    "print(\"Recall %.3f\"%recall_score(y_test, y_test_pred))\n",
    "PrintConfusionMatrix(nb, y_test, y_test_pred)"
   ]
  },
  {
   "cell_type": "code",
   "execution_count": null,
   "metadata": {},
   "outputs": [],
   "source": []
  }
 ],
 "metadata": {
  "kernelspec": {
   "display_name": "Python 3",
   "language": "python",
   "name": "python3"
  },
  "language_info": {
   "codemirror_mode": {
    "name": "ipython",
    "version": 3
   },
   "file_extension": ".py",
   "mimetype": "text/x-python",
   "name": "python",
   "nbconvert_exporter": "python",
   "pygments_lexer": "ipython3",
   "version": "3.7.6"
  }
 },
 "nbformat": 4,
 "nbformat_minor": 4
}
