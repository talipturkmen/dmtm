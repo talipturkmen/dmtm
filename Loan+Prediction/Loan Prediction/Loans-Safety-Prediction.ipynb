{
 "cells": [
  {
   "cell_type": "markdown",
   "metadata": {},
   "source": [
    "# Loan Safety Prediction\n",
    "In this example, we are going to build a model to predict whether a loan request is safe to be assigned using the data downloaded from the <a href=\"https://www.lendingclub.com/info/download-data.action\">Lending Club Corporation</a>. The company provided files containing complete loan data for all loans issued over a certain time window, including the current loan status (Current, Late, Fully Paid, etc.) and latest payment information. We are going to use a small subset of the available data which were previously preprocessed. At the moment, it seems that the data are not available anymore though. \n",
    "\n",
    "\n",
    "## Libraries\n",
    "As the very first step, we load all the relevant libraries."
   ]
  },
  {
   "cell_type": "code",
   "execution_count": 1,
   "metadata": {},
   "outputs": [],
   "source": [
    "import numpy as np\n",
    "import pandas as pd\n",
    "\n",
    "# Statistical libraries\n",
    "from scipy import stats\n",
    "\n",
    "# Plotting libraries\n",
    "import matplotlib.pyplot as plt\n",
    "import seaborn as sns\n",
    "%matplotlib inline\n",
    "\n",
    "# Preprocessing\n",
    "from sklearn.preprocessing import StandardScaler\n",
    "\n",
    "# Evaluation Procedures\n",
    "from sklearn.model_selection import train_test_split\n",
    "from sklearn.model_selection import cross_val_score\n",
    "from sklearn.model_selection import StratifiedKFold\n",
    "\n",
    "# Classification methods\n",
    "from sklearn.linear_model import LogisticRegression\n",
    "from sklearn.naive_bayes import GaussianNB\n",
    "from sklearn.neighbors import KNeighborsClassifier\n",
    "from sklearn.tree import DecisionTreeClassifier\n",
    "\n",
    "from sklearn.ensemble import RandomForestClassifier\n",
    "from sklearn.ensemble import ExtraTreesClassifier\n",
    "from sklearn.ensemble import AdaBoostClassifier\n",
    "from sklearn.ensemble import BaggingClassifier\n",
    "\n",
    "from sklearn.ensemble import VotingClassifier\n",
    "\n",
    "# Evaluation Metrics\n",
    "from sklearn.metrics import precision_score\n",
    "from sklearn.metrics import recall_score\n",
    "from sklearn.metrics import confusion_matrix\n",
    "from sklearn.metrics import precision_recall_curve\n",
    "from sklearn.metrics import average_precision_score\n",
    "from sklearn.metrics import precision_score\n",
    "from sklearn.metrics import recall_score\n",
    "from sklearn.metrics import accuracy_score\n",
    "from sklearn.metrics import roc_curve\n",
    "from sklearn.metrics import roc_auc_score\n",
    "from sklearn.metrics import f1_score"
   ]
  },
  {
   "cell_type": "markdown",
   "metadata": {},
   "source": [
    "Next we define some utility functions."
   ]
  },
  {
   "cell_type": "code",
   "execution_count": 2,
   "metadata": {},
   "outputs": [],
   "source": [
    "def PrintConfusionMatrix(model, true_y, predicted_y, positive=1, negative=-1):\n",
    "    cm = confusion_matrix(true_y,predicted_y)\n",
    "    print(\"\\t\"+str(model.classes_[0])+\"\\t\"+str(model.classes_[1]))\n",
    "    print(str(model.classes_[0]) + \"\\t\",cm[0][0],\"\\t\",cm[0][1])\n",
    "    print(str(model.classes_[1]) + \"\\t\",cm[1][0],\"\\t\",cm[1][1])    \n",
    "\n",
    "def PrintSignificance(stat, c):\n",
    "    if (stat[1]<(1-c)):\n",
    "        print(\"The difference is statistically significant (cf %3.2f p-value=%.4f)\"%(c,stat[1]))\n",
    "    else:\n",
    "        print(\"The difference is not statistically significant (cf %3.2f p-value=%.4f)\"%(c,stat[1]))        "
   ]
  },
  {
   "cell_type": "markdown",
   "metadata": {},
   "source": [
    "## Data, Training, and Test Sets\n",
    "We load the data, define the input data X and the target column y. Next, we set the random seed, define a training/test partition, and the crossvalidation procedure we will use to compare the models.\n",
    "\n",
    "Note that in this notebook we don't perform any data exploration or preparation since we already performed it before."
   ]
  },
  {
   "cell_type": "code",
   "execution_count": 3,
   "metadata": {},
   "outputs": [],
   "source": [
    "loans = pd.read_csv('LoansNumerical.csv')\n",
    "target_variable = 'safe_loans'\n",
    "input_variables = loans.columns[loans.columns!=target_variable]\n",
    "\n",
    "X = loans[input_variables]\n",
    "y = loans[target_variable]"
   ]
  },
  {
   "cell_type": "code",
   "execution_count": 4,
   "metadata": {},
   "outputs": [],
   "source": [
    "np.random.seed(1234)\n",
    "\n",
    "X_train, X_test, y_train, y_test = \\\n",
    "    train_test_split(X, y,\\\n",
    "    test_size= 1/3.0, random_state =1234, shuffle=True)\n",
    "\n",
    "crossvalidation = StratifiedKFold(n_splits=10, shuffle=True)"
   ]
  },
  {
   "cell_type": "markdown",
   "metadata": {},
   "source": [
    "## Baseline Performance (Majority Voting)\n",
    "At first, let's check what is the class distribution. As we can see the dataset is quite imbalanced with 81.1% of loans that have been classified as safe with only 18/9% of the loans classified as risky. Thus, a very simple model classifying all the loans as safe would reach an 81.1% accuracy (an impressive result in many applications) however, it would be useless for the real goal of this analysis, that is, to create a model to identify risky loans."
   ]
  },
  {
   "cell_type": "code",
   "execution_count": 5,
   "metadata": {},
   "outputs": [
    {
     "name": "stdout",
     "output_type": "stream",
     "text": [
      "Class  1  81.1%\n",
      "Class -1  18.9%\n",
      "\n"
     ]
    }
   ],
   "source": [
    "print(\"Class %2d  %.1f%%\\nClass %2d  %.1f%%\\n\"%((y.value_counts()/y.shape[0]).index[0],100*(y.value_counts()/y.shape[0]).values[0],(y.value_counts()/y.shape[0]).index[1],100*(y.value_counts()/y.shape[0]).values[1]))"
   ]
  },
  {
   "cell_type": "markdown",
   "metadata": {},
   "source": [
    "# Model Evaluation\n",
    "We now evaluate different models using some setup we investigated early. We will consider some basic methods (linear regression, naive bayes, and k-NN) as well as ensemble methods."
   ]
  },
  {
   "cell_type": "code",
   "execution_count": 6,
   "metadata": {},
   "outputs": [],
   "source": [
    "n_estimators = 50\n",
    "\n",
    "methods = {\n",
    "    'Lasso':LogisticRegression(penalty=\"l1\",C=100, random_state=1234, max_iter=300, solver=\"liblinear\"),\n",
    "    'NaiveBayes':GaussianNB(),\n",
    "    'k-NN(5)':KNeighborsClassifier(n_neighbors=5, algorithm='kd_tree'),\n",
    "    'Decision Tree':DecisionTreeClassifier(max_depth=None),\n",
    "    'Bagging(Tree)':BaggingClassifier(DecisionTreeClassifier(max_depth=3),n_estimators=n_estimators),\n",
    "    'Bagging(kNN)':BaggingClassifier(KNeighborsClassifier(n_neighbors=10, algorithm='kd_tree'),n_estimators=n_estimators),\n",
    "    'Random Forest':RandomForestClassifier(n_estimators=n_estimators,max_depth=3,oob_score=True),\n",
    "    'Extremely Randomized Trees':ExtraTreesClassifier(n_estimators=n_estimators,max_depth=3),\n",
    "    'Ada Boost':AdaBoostClassifier(DecisionTreeClassifier(max_depth=3),n_estimators=n_estimators)\n",
    "}"
   ]
  },
  {
   "cell_type": "code",
   "execution_count": null,
   "metadata": {},
   "outputs": [
    {
     "name": "stdout",
     "output_type": "stream",
     "text": [
      "                                   Lasso\n",
      "========================================\n",
      "\t  Accuracy (CV) 0.813 0.001\n",
      "\tAccuracy (Test) 0.821\n",
      "\t      Precision 0.821\n",
      "\t      Recall    0.981\n",
      "\t      F1        0.894\n",
      "\n",
      "\n",
      "                              NaiveBayes\n",
      "========================================\n",
      "\t  Accuracy (CV) 0.773 0.003\n",
      "\tAccuracy (Test) 0.840\n",
      "\t      Precision 0.840\n",
      "\t      Recall    0.891\n",
      "\t      F1        0.865\n",
      "\n",
      "\n",
      "                                 k-NN(5)\n",
      "========================================\n",
      "\t  Accuracy (CV) 0.784 0.002\n",
      "\tAccuracy (Test) 0.816\n",
      "\t      Precision 0.816\n",
      "\t      Recall    0.944\n",
      "\t      F1        0.875\n",
      "\n",
      "\n"
     ]
    }
   ],
   "source": [
    "xval_results = {}\n",
    "roc_results = {}\n",
    "feature_importance_model = {}\n",
    "\n",
    "method = []\n",
    "accuracy_mean = []\n",
    "accuracy_std = []\n",
    "precision = []\n",
    "recall = []\n",
    "f1 = []\n",
    "auc = []\n",
    "\n",
    "for method_name in methods:\n",
    "    \n",
    "    \n",
    "    clf = methods[method_name];\n",
    "    \n",
    "    # evaluate the model using crossvalidation\n",
    "    xval_score = cross_val_score(clf,X,y,cv=crossvalidation)\n",
    "    \n",
    "    # store the raw results of crossvalidation that we might want to use for t-test/mann-whitney comparison\n",
    "    xval_results[method_name] = xval_score\n",
    "    \n",
    "    # compute the basic statistics\n",
    "    accuracy_mean.append(np.average(xval_score))\n",
    "    accuracy_std.append(np.std(xval_score))\n",
    "    \n",
    "    clf.fit(X_train,y_train)\n",
    "\n",
    "    # if the mode can return an evaluation of feature importance we store it to analyze it later\n",
    "    if hasattr(clf, 'feature_importances_'):\n",
    "            feature_importance_model[method_name] = (clf,clf.feature_importances_)\n",
    "    \n",
    "    # compute the prediction which, for probabilistic classifiers, is using a threshold of 0.5\n",
    "    yp = clf.predict(X_test)\n",
    "    \n",
    "    # ask for the probability values\n",
    "    yprob = clf.predict_proba(X_test)\n",
    "    \n",
    "    # computes the data needed to draw the ROC curve\n",
    "    fpr_nb, tpr_nb, thresholds = roc_curve(y_true=y_test, y_score = yprob[:,1], pos_label=1)\n",
    "    \n",
    "    # computes the AUC \n",
    "    roc_auc = roc_auc_score(y_true=y_test, y_score = yprob[:,1])\n",
    "    auc.append(roc_auc)\n",
    "\n",
    "    # store the information to plot the ROC curves afterwards\n",
    "    roc_results[method_name] = (fpr_nb, tpr_nb, thresholds, roc_auc)\n",
    "    \n",
    "    precision.append(precision_score(y_test,yp))\n",
    "    recall.append(recall_score(y_test,yp))\n",
    "    f1.append(f1_score(y_test, yp))\n",
    "    \n",
    "    print(\"%40s\"%method_name)\n",
    "    print(\"========================================\")\n",
    "    print(\"\\t  Accuracy (CV) %.3f %.3f\"%(np.average(xval_score),np.std(xval_score)))\n",
    "    print(\"\\tAccuracy (Test) %.3f\"%precision_score(y_test, yp))\n",
    "    print(\"\\t      Precision %.3f\"%precision_score(y_test, yp))\n",
    "    print(\"\\t      Recall    %.3f\"%recall_score(y_test, yp))\n",
    "    print(\"\\t      F1        %.3f\"%f1_score(y_test, yp))\n",
    "    print(\"\\n\")\n",
    "\n",
    "    method.append(method_name)"
   ]
  },
  {
   "cell_type": "markdown",
   "metadata": {},
   "source": [
    "## Receiver Operating Characteristic (ROC) Curves\n",
    "We can compare the classifiers using the area under the curve values and the corresponding ROC curves. This measure provides an overall evaluation of the model. But at the end we are interested in evaluating one specific performance (accuracy, precision, recall, etc.)"
   ]
  },
  {
   "cell_type": "code",
   "execution_count": null,
   "metadata": {},
   "outputs": [],
   "source": [
    "# we sort the AUC values so to have a better legend\n",
    "sorted_roc_results = sorted(roc_results.items(), key=lambda x: x[1][3], reverse=True)\n",
    "\n",
    "plt.figure(1, figsize=(8, 8));\n",
    "font = {'family':'sans', 'size':24};\n",
    "plt.rc('font', **font);\n",
    "plt.xlabel('FPR');\n",
    "plt.ylabel('TPR');\n",
    "for result in sorted_roc_results:\n",
    "    plt.plot(result[1][0], result[1][1],label=result[0]+' %.2f'%result[1][3])\n",
    "\n",
    "\n",
    "# plt.plot(fpr,thresholds,label='Thresholds')\n",
    "plt.plot([0.0,1.0],[0.0,1.0],label='Baseline')\n",
    "plt.yticks(np.arange(0.0,1.01,.2))\n",
    "plt.title('ROC Curves')\n",
    "plt.ylim([0.0,1.0])\n",
    "plt.xlim([0.0,1.0])\n",
    "plt.legend(bbox_to_anchor=(2.25, 1.0))\n",
    "\n",
    "plt.show();"
   ]
  },
  {
   "cell_type": "markdown",
   "metadata": {},
   "source": [
    "## Comparing Classifier Performance using Statistical Tests\n",
    "We can now compare the performance of the classifiers. First, we plot all the performance scores and then we focus on the most interesting ones (that is, the best performing ones) and we check check whether the difference in performance is is statistically significant. "
   ]
  },
  {
   "cell_type": "code",
   "execution_count": null,
   "metadata": {},
   "outputs": [],
   "source": [
    "result_summary = pd.DataFrame({'Model':method,'Accuracy (Mean)':accuracy_mean,'Accuracy (Std)':accuracy_std,'Precision':precision,'Recall':recall,'F1':f1,'AUC':auc})\n",
    "result_summary.to_csv('LoanSafety-Summary.csv')"
   ]
  },
  {
   "cell_type": "code",
   "execution_count": null,
   "metadata": {},
   "outputs": [],
   "source": [
    "f, axe = plt.subplots(1,1, figsize=(9,6))\n",
    "\n",
    "result_summary.sort_values(by=['Accuracy (Mean)'], ascending=False, inplace=True)\n",
    "\n",
    "sns.barplot(x='Accuracy (Mean)', y='Model', data = result_summary, xerr=result_summary['Accuracy (Std)'], ax = axe)\n",
    "axe.set_xlabel('Cross-Validaton Score', size=16)\n",
    "axe.set_ylabel('Model')\n",
    "axe.set_title(\"Accuracy $\\mu\\pm s$\")\n",
    "axe.set_xlim(0.7,0.85)\n",
    "plt.show()"
   ]
  },
  {
   "cell_type": "code",
   "execution_count": null,
   "metadata": {},
   "outputs": [],
   "source": [
    "df_crossvalidation = pd.DataFrame(xval_results)"
   ]
  },
  {
   "cell_type": "code",
   "execution_count": null,
   "metadata": {},
   "outputs": [],
   "source": [
    "df_crossvalidation.drop(columns=['NaiveBayes','Decision Tree','k-NN(5)'],inplace=True)"
   ]
  },
  {
   "cell_type": "code",
   "execution_count": null,
   "metadata": {},
   "outputs": [],
   "source": [
    "confidence_level = 0.95\n",
    "\n",
    "no_variables = len(df_crossvalidation.columns)\n",
    "\n",
    "p_value = np.zeros((no_variables,no_variables))\n",
    "\n",
    "for first,first_model in enumerate(df_crossvalidation.columns):\n",
    "    \n",
    "    p_value[first,first] = 1.0\n",
    "    \n",
    "    for second in range(first+1,(len(df_crossvalidation.columns))):\n",
    "\n",
    "        second_model = df_crossvalidation.columns[second]\n",
    "        \n",
    "        paired_test = stats.ttest_rel(df_crossvalidation[first_model], df_crossvalidation[second_model])\n",
    "    \n",
    "        p_value[first,second] = paired_test[1]\n",
    "        p_value[second,first] = paired_test[1]\n",
    "        \n",
    "        if (paired_test[1]<(1-confidence_level)):\n",
    "            print(\"%15s vs %15s => Difference is statistically significant (cf %3.2f p-value=%.4f)\"%(first_model,second_model,confidence_level*100,paired_test[1]))"
   ]
  },
  {
   "cell_type": "markdown",
   "metadata": {},
   "source": [
    "## Variable Importance\n",
    "Ensembles generate models that are difficult to analyze but provide interesting ways to score the variable used by all the models in the ensembles. First, we fit each ensemble,"
   ]
  },
  {
   "cell_type": "code",
   "execution_count": 14,
   "metadata": {},
   "outputs": [
    {
     "data": {
      "image/png": "[encoded data removed]",
      "text/plain": [
       "<Figure size 720x1152 with 4 Axes>"
      ]
     },
     "metadata": {
      "needs_background": "light"
     },
     "output_type": "display_data"
    }
   ],
   "source": [
    "plot_idx = 1\n",
    "\n",
    "plt.subplots(len(feature_importance_model),1,figsize=(10,4*len(feature_importance_model)))\n",
    "font = {'family' : 'sans', 'size'   : 12}\n",
    "plt.rc('font', **font)\n",
    "\n",
    "\n",
    "for model_name in feature_importance_model:\n",
    "    model = feature_importance_model[model_name][0]\n",
    "    \n",
    "    # importance of features\n",
    "    importances = model.feature_importances_\n",
    "    \n",
    "    # indeces of the variables\n",
    "    indices = np.argsort(importances)[::-1]\n",
    "\n",
    "    plt.subplot(len(feature_importance_model),1,plot_idx)\n",
    "    \n",
    "    # \n",
    "    plt.title(\"Feature importances - \"+model_name)\n",
    "    plt.xticks(range(X.shape[1]),X.columns[indices],rotation='vertical')\n",
    "\n",
    "\n",
    "    plt.xlim([-1, X.shape[1]])\n",
    "\n",
    "#     if hasattr(model, 'estimators_'):\n",
    "#         std = np.std([tree.feature_importances_ for tree in model.estimators_], axis=0)\n",
    "#         plt.bar(range(X.shape[1]), importances[indices], color=\"r\", yerr=std[indices], align=\"center\")# plt.xticks(range(X.shape[1]), indices)\n",
    "#     else:\n",
    "    plt.bar(range(X.shape[1]), importances[indices], color=\"r\")\n",
    "\n",
    "\n",
    "    plot_idx = plot_idx + 1\n",
    "    \n",
    "plt.tight_layout(pad=0.4, w_pad=0.5, h_pad=1.0)\n",
    "\n",
    "plt.show()"
   ]
  },
  {
   "cell_type": "markdown",
   "metadata": {},
   "source": [
    "## Voting Classifier\n",
    "We can also build an heterogeneous ensemble classifier using a *VotingClassifier* available in [Scikit-Learn](https://scikit-learn.org/stable/modules/generated/sklearn.ensemble.VotingClassifier.html) that can be built either \n",
    "* by specifying a set of methods I selected or\n",
    "* by using all the methods we tested at once\n",
    "\n",
    "Let's try to use all the methods we examined so far and let's see how this new ensemble performs. VotingClassifier requires a list of pairs (name,method) so we initially convert the dictionary we used to a list of pairs. Next we apply the same procedure used for the other approaches."
   ]
  },
  {
   "cell_type": "code",
   "execution_count": 15,
   "metadata": {},
   "outputs": [],
   "source": [
    "estimators = [x for x in methods.items()]"
   ]
  },
  {
   "cell_type": "code",
   "execution_count": 16,
   "metadata": {},
   "outputs": [
    {
     "name": "stdout",
     "output_type": "stream",
     "text": [
      "    Voting\tAccuracy  0.820 0.002\n",
      "          \tPrecision 0.817\n",
      "          \tRecall    0.993\n",
      "          \tF1        0.897\n",
      "CPU times: user 12min 14s, sys: 10.4 s, total: 12min 24s\n",
      "Wall time: 18min 15s\n"
     ]
    }
   ],
   "source": [
    "%%time\n",
    "clf = VotingClassifier(estimators=estimators, voting='soft')\n",
    "\n",
    "method_name = 'Voting'\n",
    "\n",
    "# evaluate the model using crossvalidation\n",
    "cross_val_score(clf,X,y,cv=crossvalidation)\n",
    "    \n",
    "# store the raw results of crossvalidation that we might want to use for t-test/mann-whitney comparison\n",
    "xval_results['Voting'] = xval_score\n",
    "    \n",
    "# compute the basic statistics\n",
    "accuracy_mean.append(np.average(xval_score))\n",
    "accuracy_std.append(np.std(xval_score))\n",
    "    \n",
    "clf.fit(X_train,y_train)\n",
    "    \n",
    "# compute the prediction which, for probabilistic classifiers, is using a threshold of 0.5\n",
    "yp = clf.predict(X_test)\n",
    "\n",
    "# ask for the probability values\n",
    "yprob = clf.predict_proba(X_test)\n",
    "\n",
    "# computes the data needed to draw the ROC curve\n",
    "fpr_nb, tpr_nb, thresholds = roc_curve(y_true=y_test, y_score = yprob[:,1], pos_label=1)\n",
    "\n",
    "# computes the AUC \n",
    "roc_auc = roc_auc_score(y_true=y_test, y_score = yprob[:,1])\n",
    "auc.append(roc_auc)\n",
    "\n",
    "# store the information to plot the ROC curves afterwards\n",
    "roc_results[method_name] = (fpr_nb, tpr_nb, thresholds, roc_auc)\n",
    "\n",
    "precision.append(precision_score(y_test,yp))\n",
    "recall.append(recall_score(y_test,yp))\n",
    "f1.append(f1_score(y_test, yp))\n",
    "\n",
    "print(\"%10s\\tAccuracy  %.3f %.3f\"%(method_name,np.average(xval_score),np.std(xval_score)))\n",
    "print(\"          \\tPrecision %.3f\"%precision_score(y_test, yp))\n",
    "print(\"          \\tRecall    %.3f\"%recall_score(y_test, yp))\n",
    "print(\"          \\tF1        %.3f\"%f1_score(y_test, yp))\n",
    "\n",
    "method.append(method_name)"
   ]
  },
  {
   "cell_type": "code",
   "execution_count": 17,
   "metadata": {},
   "outputs": [],
   "source": [
    "result_summary_extra = pd.DataFrame({'Model':method,'Accuracy (Mean)':accuracy_mean,'Accuracy (Std)':accuracy_std,'Precision':precision,'Recall':recall,'F1':f1,'AUC':auc})\n",
    "result_summary_extra.to_csv('LoanSafety-Summary-Extra.csv')"
   ]
  },
  {
   "cell_type": "code",
   "execution_count": 18,
   "metadata": {},
   "outputs": [
    {
     "data": {
      "text/html": [
       "<div>\n",
       "<style scoped>\n",
       "    .dataframe tbody tr th:only-of-type {\n",
       "        vertical-align: middle;\n",
       "    }\n",
       "\n",
       "    .dataframe tbody tr th {\n",
       "        vertical-align: top;\n",
       "    }\n",
       "\n",
       "    .dataframe thead th {\n",
       "        text-align: right;\n",
       "    }\n",
       "</style>\n",
       "<table border=\"1\" class=\"dataframe\">\n",
       "  <thead>\n",
       "    <tr style=\"text-align: right;\">\n",
       "      <th></th>\n",
       "      <th>Model</th>\n",
       "      <th>Accuracy (Mean)</th>\n",
       "      <th>Accuracy (Std)</th>\n",
       "      <th>Precision</th>\n",
       "      <th>Recall</th>\n",
       "      <th>F1</th>\n",
       "      <th>AUC</th>\n",
       "    </tr>\n",
       "  </thead>\n",
       "  <tbody>\n",
       "    <tr>\n",
       "      <th>0</th>\n",
       "      <td>Lasso</td>\n",
       "      <td>0.812832</td>\n",
       "      <td>0.001073</td>\n",
       "      <td>0.820863</td>\n",
       "      <td>0.981253</td>\n",
       "      <td>0.893921</td>\n",
       "      <td>0.721683</td>\n",
       "    </tr>\n",
       "    <tr>\n",
       "      <th>1</th>\n",
       "      <td>NaiveBayes</td>\n",
       "      <td>0.773056</td>\n",
       "      <td>0.002890</td>\n",
       "      <td>0.840115</td>\n",
       "      <td>0.891479</td>\n",
       "      <td>0.865035</td>\n",
       "      <td>0.682258</td>\n",
       "    </tr>\n",
       "    <tr>\n",
       "      <th>2</th>\n",
       "      <td>k-NN(5)</td>\n",
       "      <td>0.783908</td>\n",
       "      <td>0.002491</td>\n",
       "      <td>0.816393</td>\n",
       "      <td>0.943547</td>\n",
       "      <td>0.875377</td>\n",
       "      <td>0.557943</td>\n",
       "    </tr>\n",
       "    <tr>\n",
       "      <th>3</th>\n",
       "      <td>Decision Tree</td>\n",
       "      <td>0.732733</td>\n",
       "      <td>0.003036</td>\n",
       "      <td>0.841176</td>\n",
       "      <td>0.826984</td>\n",
       "      <td>0.834019</td>\n",
       "      <td>0.580287</td>\n",
       "    </tr>\n",
       "    <tr>\n",
       "      <th>4</th>\n",
       "      <td>Bagging(Tree)</td>\n",
       "      <td>0.815102</td>\n",
       "      <td>0.000484</td>\n",
       "      <td>0.817868</td>\n",
       "      <td>0.988752</td>\n",
       "      <td>0.895228</td>\n",
       "      <td>0.688886</td>\n",
       "    </tr>\n",
       "    <tr>\n",
       "      <th>5</th>\n",
       "      <td>Bagging(kNN)</td>\n",
       "      <td>0.803727</td>\n",
       "      <td>0.001406</td>\n",
       "      <td>0.813719</td>\n",
       "      <td>0.979923</td>\n",
       "      <td>0.889121</td>\n",
       "      <td>0.578200</td>\n",
       "    </tr>\n",
       "    <tr>\n",
       "      <th>6</th>\n",
       "      <td>Random Forest</td>\n",
       "      <td>0.811264</td>\n",
       "      <td>0.000152</td>\n",
       "      <td>0.810171</td>\n",
       "      <td>1.000000</td>\n",
       "      <td>0.895132</td>\n",
       "      <td>0.707711</td>\n",
       "    </tr>\n",
       "    <tr>\n",
       "      <th>7</th>\n",
       "      <td>Extremely Randomized Trees</td>\n",
       "      <td>0.811190</td>\n",
       "      <td>0.000026</td>\n",
       "      <td>0.810171</td>\n",
       "      <td>1.000000</td>\n",
       "      <td>0.895132</td>\n",
       "      <td>0.687081</td>\n",
       "    </tr>\n",
       "    <tr>\n",
       "      <th>8</th>\n",
       "      <td>Ada Boost</td>\n",
       "      <td>0.820369</td>\n",
       "      <td>0.001767</td>\n",
       "      <td>0.833372</td>\n",
       "      <td>0.968463</td>\n",
       "      <td>0.895853</td>\n",
       "      <td>0.744297</td>\n",
       "    </tr>\n",
       "    <tr>\n",
       "      <th>9</th>\n",
       "      <td>Voting</td>\n",
       "      <td>0.820369</td>\n",
       "      <td>0.001767</td>\n",
       "      <td>0.817144</td>\n",
       "      <td>0.993015</td>\n",
       "      <td>0.896536</td>\n",
       "      <td>0.696573</td>\n",
       "    </tr>\n",
       "  </tbody>\n",
       "</table>\n",
       "</div>"
      ],
      "text/plain": [
       "                        Model  Accuracy (Mean)  Accuracy (Std)  Precision  \\\n",
       "0                       Lasso         0.812832        0.001073   0.820863   \n",
       "1                  NaiveBayes         0.773056        0.002890   0.840115   \n",
       "2                     k-NN(5)         0.783908        0.002491   0.816393   \n",
       "3               Decision Tree         0.732733        0.003036   0.841176   \n",
       "4               Bagging(Tree)         0.815102        0.000484   0.817868   \n",
       "5                Bagging(kNN)         0.803727        0.001406   0.813719   \n",
       "6               Random Forest         0.811264        0.000152   0.810171   \n",
       "7  Extremely Randomized Trees         0.811190        0.000026   0.810171   \n",
       "8                   Ada Boost         0.820369        0.001767   0.833372   \n",
       "9                      Voting         0.820369        0.001767   0.817144   \n",
       "\n",
       "     Recall        F1       AUC  \n",
       "0  0.981253  0.893921  0.721683  \n",
       "1  0.891479  0.865035  0.682258  \n",
       "2  0.943547  0.875377  0.557943  \n",
       "3  0.826984  0.834019  0.580287  \n",
       "4  0.988752  0.895228  0.688886  \n",
       "5  0.979923  0.889121  0.578200  \n",
       "6  1.000000  0.895132  0.707711  \n",
       "7  1.000000  0.895132  0.687081  \n",
       "8  0.968463  0.895853  0.744297  \n",
       "9  0.993015  0.896536  0.696573  "
      ]
     },
     "execution_count": 18,
     "metadata": {},
     "output_type": "execute_result"
    }
   ],
   "source": [
    "result_summary_extra"
   ]
  },
  {
   "cell_type": "code",
   "execution_count": 19,
   "metadata": {},
   "outputs": [
    {
     "data": {
      "image/png": "[encoded data removed]",
      "text/plain": [
       "<Figure size 648x432 with 1 Axes>"
      ]
     },
     "metadata": {
      "needs_background": "light"
     },
     "output_type": "display_data"
    }
   ],
   "source": [
    "f, axe = plt.subplots(1,1, figsize=(9,6))\n",
    "\n",
    "result_summary_extra.sort_values(by=['Accuracy (Mean)'], ascending=False, inplace=True)\n",
    "\n",
    "sns.barplot(x='Accuracy (Mean)', y='Model', data = result_summary_extra, xerr=result_summary_extra['Accuracy (Std)'], ax = axe)\n",
    "axe.set_xlabel('Cross-Validaton Score', size=16)\n",
    "axe.set_ylabel('Model')\n",
    "axe.set_title(\"Accuracy $\\mu\\pm s$\")\n",
    "axe.set_xlim(0.7,0.85)\n",
    "plt.show()"
   ]
  },
  {
   "cell_type": "markdown",
   "metadata": {},
   "source": [
    "## Stacking\n",
    "Alternatively, we can build a stacking classifier by training a meta classifier to learn how to predict whether a loan is safe based on the prediction of other classifiers. Note that, with respect to the voting classifier, in this case we replace the hard/soft voting with another model. Further examples of stacking can be found at\n",
    "- http://rasbt.github.io/mlxtend/user_guide/classifier/StackingClassifier/\n",
    "- https://medium.com/@rrfd/boosting-bagging-and-stacking-ensemble-methods-with-sklearn-and-mlens-a455c0c982de"
   ]
  },
  {
   "cell_type": "markdown",
   "metadata": {},
   "source": [
    "We build a dataframe containing the prediction of each model we want to use. Next we train a meta learner on the dataset of predictions we generated. In this case, we use as a meta learner a logistic regression.\n",
    "\n",
    "### Building the Training Data\n",
    "The training data are collected by fitting all the models we considered in the stack. "
   ]
  },
  {
   "cell_type": "code",
   "execution_count": 20,
   "metadata": {},
   "outputs": [],
   "source": [
    "stack_train = pd.DataFrame()\n",
    "stack = {}\n",
    "\n",
    "for method_name in methods:\n",
    "    clf = methods[method_name]\n",
    "    clf.fit(X_train,y_train)\n",
    "    stack[method_name] = clf\n",
    "    stack_train[method_name] = clf.predict(X_train)\n"
   ]
  },
  {
   "cell_type": "markdown",
   "metadata": {},
   "source": [
    "### Training the Meta Learner\n",
    "Next, the output collected from the stacked models is used to train the meta learner."
   ]
  },
  {
   "cell_type": "code",
   "execution_count": 21,
   "metadata": {},
   "outputs": [
    {
     "data": {
      "text/plain": [
       "LogisticRegression(C=100, class_weight=None, dual=False, fit_intercept=True,\n",
       "                   intercept_scaling=1, l1_ratio=None, max_iter=300,\n",
       "                   multi_class='auto', n_jobs=None, penalty='l1',\n",
       "                   random_state=1234, solver='liblinear', tol=0.0001, verbose=0,\n",
       "                   warm_start=False)"
      ]
     },
     "execution_count": 21,
     "metadata": {},
     "output_type": "execute_result"
    }
   ],
   "source": [
    "meta = LogisticRegression(penalty=\"l1\",C=100, random_state=1234, max_iter=300, solver=\"liblinear\")\n",
    "meta.fit(stack_train,y_train)"
   ]
  },
  {
   "cell_type": "code",
   "execution_count": 22,
   "metadata": {},
   "outputs": [
    {
     "data": {
      "text/html": [
       "<div>\n",
       "<style scoped>\n",
       "    .dataframe tbody tr th:only-of-type {\n",
       "        vertical-align: middle;\n",
       "    }\n",
       "\n",
       "    .dataframe tbody tr th {\n",
       "        vertical-align: top;\n",
       "    }\n",
       "\n",
       "    .dataframe thead th {\n",
       "        text-align: right;\n",
       "    }\n",
       "</style>\n",
       "<table border=\"1\" class=\"dataframe\">\n",
       "  <thead>\n",
       "    <tr style=\"text-align: right;\">\n",
       "      <th></th>\n",
       "      <th>Lasso</th>\n",
       "      <th>NaiveBayes</th>\n",
       "      <th>k-NN(5)</th>\n",
       "      <th>Decision Tree</th>\n",
       "      <th>Bagging(Tree)</th>\n",
       "      <th>Bagging(kNN)</th>\n",
       "      <th>Random Forest</th>\n",
       "      <th>Extremely Randomized Trees</th>\n",
       "      <th>Ada Boost</th>\n",
       "    </tr>\n",
       "  </thead>\n",
       "  <tbody>\n",
       "    <tr>\n",
       "      <th>0</th>\n",
       "      <td>1</td>\n",
       "      <td>1</td>\n",
       "      <td>1</td>\n",
       "      <td>1</td>\n",
       "      <td>1</td>\n",
       "      <td>1</td>\n",
       "      <td>1</td>\n",
       "      <td>1</td>\n",
       "      <td>1</td>\n",
       "    </tr>\n",
       "    <tr>\n",
       "      <th>1</th>\n",
       "      <td>1</td>\n",
       "      <td>1</td>\n",
       "      <td>1</td>\n",
       "      <td>-1</td>\n",
       "      <td>1</td>\n",
       "      <td>1</td>\n",
       "      <td>1</td>\n",
       "      <td>1</td>\n",
       "      <td>1</td>\n",
       "    </tr>\n",
       "    <tr>\n",
       "      <th>2</th>\n",
       "      <td>1</td>\n",
       "      <td>1</td>\n",
       "      <td>1</td>\n",
       "      <td>1</td>\n",
       "      <td>1</td>\n",
       "      <td>1</td>\n",
       "      <td>1</td>\n",
       "      <td>1</td>\n",
       "      <td>1</td>\n",
       "    </tr>\n",
       "    <tr>\n",
       "      <th>3</th>\n",
       "      <td>1</td>\n",
       "      <td>1</td>\n",
       "      <td>1</td>\n",
       "      <td>1</td>\n",
       "      <td>1</td>\n",
       "      <td>1</td>\n",
       "      <td>1</td>\n",
       "      <td>1</td>\n",
       "      <td>1</td>\n",
       "    </tr>\n",
       "    <tr>\n",
       "      <th>4</th>\n",
       "      <td>1</td>\n",
       "      <td>1</td>\n",
       "      <td>1</td>\n",
       "      <td>1</td>\n",
       "      <td>1</td>\n",
       "      <td>1</td>\n",
       "      <td>1</td>\n",
       "      <td>1</td>\n",
       "      <td>1</td>\n",
       "    </tr>\n",
       "  </tbody>\n",
       "</table>\n",
       "</div>"
      ],
      "text/plain": [
       "   Lasso  NaiveBayes  k-NN(5)  Decision Tree  Bagging(Tree)  Bagging(kNN)  \\\n",
       "0      1           1        1              1              1             1   \n",
       "1      1           1        1             -1              1             1   \n",
       "2      1           1        1              1              1             1   \n",
       "3      1           1        1              1              1             1   \n",
       "4      1           1        1              1              1             1   \n",
       "\n",
       "   Random Forest  Extremely Randomized Trees  Ada Boost  \n",
       "0              1                           1          1  \n",
       "1              1                           1          1  \n",
       "2              1                           1          1  \n",
       "3              1                           1          1  \n",
       "4              1                           1          1  "
      ]
     },
     "execution_count": 22,
     "metadata": {},
     "output_type": "execute_result"
    }
   ],
   "source": [
    "stack_train.head()"
   ]
  },
  {
   "cell_type": "markdown",
   "metadata": {},
   "source": [
    "### Evaluation on the Test Set\n",
    "To evaluate the performance on the test set we generate a data set containing the output of the fitted models on the test set. The resulting data set (contained in stack_test) is used as the input for the meta model."
   ]
  },
  {
   "cell_type": "code",
   "execution_count": 23,
   "metadata": {},
   "outputs": [],
   "source": [
    "stack_test = pd.DataFrame()\n",
    "\n",
    "for method_name in stack:\n",
    "    stack_test[method_name] = methods[method_name].predict(X_test)\n",
    "\n",
    "yp = meta.predict(stack_test)"
   ]
  },
  {
   "cell_type": "code",
   "execution_count": 24,
   "metadata": {},
   "outputs": [
    {
     "name": "stdout",
     "output_type": "stream",
     "text": [
      "Accuracy 0.731\n",
      "Precision 0.841\n",
      "Recall 0.824\n"
     ]
    }
   ],
   "source": [
    "print(\"Accuracy %.3f\"%(accuracy_score(y_test, yp)))\n",
    "print(\"Precision %.3f\"%precision_score(y_test, yp))\n",
    "print(\"Recall %.3f\"%recall_score(y_test, yp))"
   ]
  },
  {
   "cell_type": "markdown",
   "metadata": {},
   "source": [
    "## Final Remarks\n",
    "We evaluated several classification approaches for predicting the safety of loans. We built a pipeline to evaluate each classifier using cross-validation and holdout. We collected several metrics of performance (accuracy, prediction, recall, f1, AUC). Note that some methods would not have required crossvalidation since they could have been used out-of-bag evaluation, yet we preferred to apply the same evaluation to all the methods to have a uniform comparison. In addition, we applied crossvalidation using accuracy as a metric but accuracy is not the most adequate metric since it does not distinguish between false positive and false negative errors. Depending on the problem we should have used another metric to improve our performance on a specific type of error. There are several other ways to extend the current analysis for example by including other methods or by performing an in-depth exploration analysis which might result in a different data set (e.g., we might apply normalization to the input variables)"
   ]
  }
 ],
 "metadata": {
  "kernelspec": {
   "display_name": "Python 3",
   "language": "python",
   "name": "python3"
  },
  "language_info": {
   "codemirror_mode": {
    "name": "ipython",
    "version": 3
   },
   "file_extension": ".py",
   "mimetype": "text/x-python",
   "name": "python",
   "nbconvert_exporter": "python",
   "pygments_lexer": "ipython3",
   "version": "3.7.6"
  }
 },
 "nbformat": 4,
 "nbformat_minor": 4
}
